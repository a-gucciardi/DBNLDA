{
 "cells": [
  {
   "cell_type": "code",
   "execution_count": 1,
   "metadata": {},
   "outputs": [
    {
     "name": "stderr",
     "output_type": "stream",
     "text": [
      "/home/manu/anaconda3/lib/python3.6/site-packages/tensorflow/python/framework/dtypes.py:526: FutureWarning: Passing (type, 1) or '1type' as a synonym of type is deprecated; in a future version of numpy, it will be understood as (type, (1,)) / '(1,)type'.\n",
      "  _np_qint8 = np.dtype([(\"qint8\", np.int8, 1)])\n",
      "/home/manu/anaconda3/lib/python3.6/site-packages/tensorflow/python/framework/dtypes.py:527: FutureWarning: Passing (type, 1) or '1type' as a synonym of type is deprecated; in a future version of numpy, it will be understood as (type, (1,)) / '(1,)type'.\n",
      "  _np_quint8 = np.dtype([(\"quint8\", np.uint8, 1)])\n",
      "/home/manu/anaconda3/lib/python3.6/site-packages/tensorflow/python/framework/dtypes.py:528: FutureWarning: Passing (type, 1) or '1type' as a synonym of type is deprecated; in a future version of numpy, it will be understood as (type, (1,)) / '(1,)type'.\n",
      "  _np_qint16 = np.dtype([(\"qint16\", np.int16, 1)])\n",
      "/home/manu/anaconda3/lib/python3.6/site-packages/tensorflow/python/framework/dtypes.py:529: FutureWarning: Passing (type, 1) or '1type' as a synonym of type is deprecated; in a future version of numpy, it will be understood as (type, (1,)) / '(1,)type'.\n",
      "  _np_quint16 = np.dtype([(\"quint16\", np.uint16, 1)])\n",
      "/home/manu/anaconda3/lib/python3.6/site-packages/tensorflow/python/framework/dtypes.py:530: FutureWarning: Passing (type, 1) or '1type' as a synonym of type is deprecated; in a future version of numpy, it will be understood as (type, (1,)) / '(1,)type'.\n",
      "  _np_qint32 = np.dtype([(\"qint32\", np.int32, 1)])\n",
      "/home/manu/anaconda3/lib/python3.6/site-packages/tensorflow/python/framework/dtypes.py:535: FutureWarning: Passing (type, 1) or '1type' as a synonym of type is deprecated; in a future version of numpy, it will be understood as (type, (1,)) / '(1,)type'.\n",
      "  np_resource = np.dtype([(\"resource\", np.ubyte, 1)])\n",
      "/home/manu/anaconda3/lib/python3.6/site-packages/h5py/__init__.py:36: FutureWarning: Conversion of the second argument of issubdtype from `float` to `np.floating` is deprecated. In future, it will be treated as `np.float64 == np.dtype(float).type`.\n",
      "  from ._conv import register_converters as _register_converters\n"
     ]
    }
   ],
   "source": [
    "import torch\n",
    "import torch.nn as nn\n",
    "import torch.nn.functional as F\n",
    "from torch.autograd import Variable\n",
    "import torch.optim as optim\n",
    "import numpy as np\n",
    "\n",
    "from sklearn.model_selection import StratifiedKFold\n",
    "from sklearn.metrics import roc_auc_score\n",
    "from sklearn.metrics import average_precision_score\n",
    "from sklearn.metrics import precision_recall_curve\n",
    "from sklearn.metrics import auc\n",
    "from sklearn.metrics import accuracy_score\n",
    "from sklearn.metrics import roc_curve\n",
    "\n",
    "import matplotlib.pyplot as plt\n",
    "%matplotlib inline\n",
    "\n",
    "import random\n",
    "from dbn_tf import DBN\n",
    "from rbm_tf import BBRBM, GBRBM\n",
    "from util import normalization"
   ]
  },
  {
   "cell_type": "code",
   "execution_count": 26,
   "metadata": {},
   "outputs": [
    {
     "name": "stderr",
     "output_type": "stream",
     "text": [
      "/home/manu/anaconda3/lib/python3.6/site-packages/sklearn/preprocessing/_data.py:173: UserWarning: Numerical issues were encountered when centering the data and might not be solved. Dataset may contain too large values. You may need to prescale your features.\n",
      "  warnings.warn(\"Numerical issues were encountered \"\n",
      "/home/manu/anaconda3/lib/python3.6/site-packages/sklearn/preprocessing/_data.py:190: UserWarning: Numerical issues were encountered when scaling the data and might not be solved. The standard deviation of the data is probably very close to 0. \n",
      "  warnings.warn(\"Numerical issues were encountered \"\n",
      "/home/manu/anaconda3/lib/python3.6/site-packages/sklearn/preprocessing/_data.py:173: UserWarning: Numerical issues were encountered when centering the data and might not be solved. Dataset may contain too large values. You may need to prescale your features.\n",
      "  warnings.warn(\"Numerical issues were encountered \"\n",
      "/home/manu/anaconda3/lib/python3.6/site-packages/sklearn/preprocessing/_data.py:190: UserWarning: Numerical issues were encountered when scaling the data and might not be solved. The standard deviation of the data is probably very close to 0. \n",
      "  warnings.warn(\"Numerical issues were encountered \"\n"
     ]
    },
    {
     "name": "stdout",
     "output_type": "stream",
     "text": [
      "Learning DBN-1 representation\n"
     ]
    },
    {
     "name": "stderr",
     "output_type": "stream",
     "text": [
      "/home/manu/anaconda3/lib/python3.6/site-packages/sklearn/preprocessing/_data.py:173: UserWarning: Numerical issues were encountered when centering the data and might not be solved. Dataset may contain too large values. You may need to prescale your features.\n",
      "  warnings.warn(\"Numerical issues were encountered \"\n",
      "/home/manu/anaconda3/lib/python3.6/site-packages/sklearn/preprocessing/_data.py:190: UserWarning: Numerical issues were encountered when scaling the data and might not be solved. The standard deviation of the data is probably very close to 0. \n",
      "  warnings.warn(\"Numerical issues were encountered \"\n",
      "/home/manu/anaconda3/lib/python3.6/site-packages/sklearn/preprocessing/_data.py:173: UserWarning: Numerical issues were encountered when centering the data and might not be solved. Dataset may contain too large values. You may need to prescale your features.\n",
      "  warnings.warn(\"Numerical issues were encountered \"\n",
      "/home/manu/anaconda3/lib/python3.6/site-packages/sklearn/preprocessing/_data.py:190: UserWarning: Numerical issues were encountered when scaling the data and might not be solved. The standard deviation of the data is probably very close to 0. \n",
      "  warnings.warn(\"Numerical issues were encountered \"\n"
     ]
    },
    {
     "name": "stdout",
     "output_type": "stream",
     "text": [
      "Learning DBN-2 representation\n",
      "Learning Combined representation\n",
      "(5394, 512)\n"
     ]
    }
   ],
   "source": [
    "#X_train_ld = normalization(np.load('X_train_ld.npy'))\n",
    "#X_test_ld = normalization(np.load('X_test_ld.npy'))\n",
    "#X_ld = np.concatenate((X_train_ld,X_test_ld),axis=0)\n",
    "\n",
    "#print(\"Learning DBN-1 representation\")\n",
    "#hidden=128\n",
    "#dbn1 = DBN(hidden_layers_structure=[hidden,hidden,hidden],weight_cost=0.001,batch_size=4,n_epoches=30, learning_rate_rbm=[0.0005,1e-2,1e-2],rbm_gauss_visible=True)\n",
    "#dbn1.fit(X_train_ld)\n",
    "#X_train_db1 = dbn1.transform(X_train_ld)\n",
    "#X_test_db1 = dbn1.transform(X_test_ld)\n",
    "#X_db = np.concatenate()\n",
    "\n",
    "#X_train_lmd = normalization(np.load('X_train_lmd.npy'))\n",
    "#X_test_lmd = normalization(np.load('X_test_lmd.npy'))\n",
    "#X_lmd = np.concatenate((X_train_lmd,X_test_lmd),axis=0)\n",
    "\n",
    "#print(\"Learning DBN-2 representation\")\n",
    "#hidden=256\n",
    "#dbn2 = DBN(hidden_layers_structure=[hidden,hidden,hidden],weight_cost=0.001,batch_size=4,n_epoches=30, learning_rate_rbm=[0.0005,1e-2,1e-2],rbm_gauss_visible=True)\n",
    "#dbn2.fit(X_train_lmd)\n",
    "#X_train_db2 = dbn2.transform(X_train_lmd)\n",
    "#X_test_db2 = dbn2.transform(X_test_lmd)\n",
    "\n",
    "#X_db2 = dbn1.transform(X_lmd)\n",
    "\n",
    "#X_db = np.concatenate((X_db1,X_db2),axis=1)\n",
    "\n",
    "# X_train_db1 = normalization(np.load('X_train_db1.npy'))\n",
    "# X_train_db2 = normalization(np.load('X_train_db2.npy'))\n",
    "# X_test_db1 = normalization(np.load('X_test_db1.npy'))\n",
    "# X_test_db2 = normalization(np.load('X_test_db2.npy'))\n",
    "\n",
    "# X_db_train =np.concatenate((X_train_db1,X_train_db2),axis=1)\n",
    "# X_db_test =np.concatenate((X_test_db1,X_test_db2),axis=1)\n",
    "\n",
    "# print (\"Learning Combined representation\")\n",
    "# hidden = 512\n",
    "# dbn = DBN(hidden_layers_structure=[hidden,hidden,hidden],weight_cost=0.001,batch_size=4,n_epoches=30, learning_rate_rbm=[0.0005,1e-2,1e-2],rbm_gauss_visible=True)\n",
    "# dbn.fit(X_db_train)\n",
    "# X_db_train = dbn.transform(X_db_train)\n",
    "# X_db_test = dbn.transform(X_db_test)\n",
    "X_db_train = normalization(np.load('X_train_combined.npy'))\n",
    "X_db_test = normalization(np.load('X_test_combined.npy'))\n",
    "X_db = np.concatenate((X_db_train,X_db_test))\n",
    "print(X_db.shape)\n",
    "\n"
   ]
  },
  {
   "cell_type": "code",
   "execution_count": 18,
   "metadata": {},
   "outputs": [
    {
     "data": {
      "text/plain": [
       "((4314, 1), (1080, 1))"
      ]
     },
     "execution_count": 18,
     "metadata": {},
     "output_type": "execute_result"
    }
   ],
   "source": [
    "y_train=open('y_train.txt').read().split('\\n')[:-1]\n",
    "y_train=[int(y) for y in y_train]\n",
    "y_train=np.array(y_train)\n",
    "y_train=y_train.reshape(y_train.shape[0],1)\n",
    "\n",
    "\n",
    "y_test=open('y_test.txt').read().split('\\n')[:-1]\n",
    "y_test=[int(y) for y in y_test]\n",
    "y_test = np.array(y_test)\n",
    "y_test =y_test.reshape(y_test.shape[0],1)\n",
    "\n",
    "y_train.shape, y_test.shape"
   ]
  },
  {
   "cell_type": "code",
   "execution_count": 27,
   "metadata": {},
   "outputs": [
    {
     "name": "stderr",
     "output_type": "stream",
     "text": [
      "/home/manu/anaconda3/lib/python3.6/site-packages/sklearn/preprocessing/_data.py:173: UserWarning: Numerical issues were encountered when centering the data and might not be solved. Dataset may contain too large values. You may need to prescale your features.\n",
      "  warnings.warn(\"Numerical issues were encountered \"\n",
      "/home/manu/anaconda3/lib/python3.6/site-packages/sklearn/preprocessing/_data.py:190: UserWarning: Numerical issues were encountered when scaling the data and might not be solved. The standard deviation of the data is probably very close to 0. \n",
      "  warnings.warn(\"Numerical issues were encountered \"\n"
     ]
    },
    {
     "data": {
      "text/plain": [
       "(torch.Size([5394, 512]), torch.Size([5394, 1]))"
      ]
     },
     "execution_count": 27,
     "metadata": {},
     "output_type": "execute_result"
    }
   ],
   "source": [
    "X_all =np.copy(X_db)\n",
    "X_all =normalization(X_all)\n",
    "X_all = torch.from_numpy(X_all).type(torch.FloatTensor)\n",
    "\n",
    "y_all =np.concatenate((y_train,y_test))\n",
    "y_all =torch.from_numpy(y_all).type(torch.FloatTensor)\n",
    "X_all.size(),y_all.size()"
   ]
  },
  {
   "cell_type": "code",
   "execution_count": 20,
   "metadata": {},
   "outputs": [],
   "source": [
    "class LDAClassifier(nn.Module):\n",
    "    def __init__(self,inp_size):\n",
    "        super(LDAClassifier,self).__init__()        \n",
    "        self.att = nn.Linear(inp_size,inp_size)\n",
    "        self.fc1 = nn.Linear(inp_size, 128)\n",
    "        self.relu = nn.ReLU()\n",
    "        self.dout = nn.Dropout(0.2)\n",
    "        self.fc2 = nn.Linear(128, 128)\n",
    "        self.out = nn.Linear(128, 1)\n",
    "        self.out_act = nn.Sigmoid()\n",
    "        self.tanh = nn.Tanh()\n",
    "        self.softmax = nn.Softmax()\n",
    "        \n",
    "    def forward(self, input_):\n",
    "        t = self.att(input_)\n",
    "        s = self.tanh(t)\n",
    "        alpha = self.softmax(s)\n",
    "        x = torch.mul(alpha,input_)\n",
    "        a1 = self.fc1(x)\n",
    "        h1 = self.relu(a1)\n",
    "        dout = self.dout(h1)\n",
    "        a2 = self.fc2(dout)\n",
    "        h2 = self.relu(a2)\n",
    "        #dout = self.dout(h2)\n",
    "        a3 = self.out(h2)\n",
    "        y = self.out_act(a3)\n",
    "        return y\n",
    "    \n",
    "    def predict(self,x):\n",
    "        #Apply softmax to output. \n",
    "        pred = self.forward(x)\n",
    "        ans = []\n",
    "        #Pick the class with maximum weight\n",
    "        for t in pred:\n",
    "            if t<0.5:\n",
    "                ans.append(0)\n",
    "            else:\n",
    "                ans.append(1)\n",
    "        return torch.tensor(ans)"
   ]
  },
  {
   "cell_type": "code",
   "execution_count": 21,
   "metadata": {},
   "outputs": [],
   "source": [
    "def train_cv(model, X, y, opt, criterion, batch_size=50):\n",
    "    model.train()\n",
    "    losses = []\n",
    "    for beg_i in range(0, X.size(0), batch_size):\n",
    "        x_batch = X[beg_i:beg_i + batch_size, :]\n",
    "        y_batch = y[beg_i:beg_i + batch_size, :]\n",
    "        x_batch = Variable(x_batch)\n",
    "        y_batch = Variable(y_batch)\n",
    "\n",
    "        opt.zero_grad()\n",
    "        # (1) Forward\n",
    "        y_hat = clf(x_batch)\n",
    "        # (2) Compute diff\n",
    "        loss = criterion(y_hat, y_batch)\n",
    "        # (3) Compute gradients\n",
    "        loss.backward()\n",
    "        # (4) update weights\n",
    "        opt.step()        \n",
    "        losses.append(loss.data.numpy())\n",
    "    avg_loss=sum(losses)/len(losses)\n",
    "    return losses,avg_loss"
   ]
  },
  {
   "cell_type": "code",
   "execution_count": 10,
   "metadata": {},
   "outputs": [],
   "source": [
    "def avg(l):\n",
    "    return sum(l)/len(l)\n",
    "\n",
    "def compute_aupr(y,yhat):\n",
    "    pre,rec,_ = precision_recall_curve(y,yhat)\n",
    "    return auc(rec,pre)"
   ]
  },
  {
   "cell_type": "code",
   "execution_count": 28,
   "metadata": {},
   "outputs": [
    {
     "name": "stderr",
     "output_type": "stream",
     "text": [
      "/home/manu/anaconda3/lib/python3.6/site-packages/ipykernel_launcher.py:17: UserWarning: Implicit dimension choice for softmax has been deprecated. Change the call to include dim=X as an argument.\n"
     ]
    },
    {
     "name": "stdout",
     "output_type": "stream",
     "text": [
      "Fold:1 Epoch:0/30 Train loss:0.561577\n",
      "Fold:1 Epoch:1/30 Train loss:0.315723\n",
      "Fold:1 Epoch:2/30 Train loss:0.284868\n",
      "Fold:1 Epoch:3/30 Train loss:0.270554\n",
      "Fold:1 Epoch:4/30 Train loss:0.260254\n",
      "Fold:1 Epoch:5/30 Train loss:0.253438\n",
      "Fold:1 Epoch:6/30 Train loss:0.245720\n",
      "Fold:1 Epoch:7/30 Train loss:0.238661\n",
      "Fold:1 Epoch:8/30 Train loss:0.231237\n",
      "Fold:1 Epoch:9/30 Train loss:0.225630\n",
      "Fold:1 Epoch:10/30 Train loss:0.219685\n",
      "Fold:1 Epoch:11/30 Train loss:0.216284\n",
      "Fold:1 Epoch:12/30 Train loss:0.207400\n",
      "Fold:1 Epoch:13/30 Train loss:0.203809\n",
      "Fold:1 Epoch:14/30 Train loss:0.197261\n",
      "Fold:1 Epoch:15/30 Train loss:0.195038\n",
      "Fold:1 Epoch:16/30 Train loss:0.189675\n",
      "Fold:1 Epoch:17/30 Train loss:0.183270\n",
      "Fold:1 Epoch:18/30 Train loss:0.178679\n",
      "Fold:1 Epoch:19/30 Train loss:0.176900\n",
      "Fold:1 Epoch:20/30 Train loss:0.173541\n",
      "Fold:1 Epoch:21/30 Train loss:0.167567\n",
      "Fold:1 Epoch:22/30 Train loss:0.162102\n",
      "Fold:1 Epoch:23/30 Train loss:0.157948\n",
      "Fold:1 Epoch:24/30 Train loss:0.156494\n",
      "Fold:1 Epoch:25/30 Train loss:0.153355\n",
      "Fold:1 Epoch:26/30 Train loss:0.148122\n",
      "Fold:1 Epoch:27/30 Train loss:0.144647\n",
      "Fold:1 Epoch:28/30 Train loss:0.136593\n",
      "Fold:1 Epoch:29/30 Train loss:0.135035\n",
      "Test accuracy:0.928638\n",
      "\n",
      "\n"
     ]
    },
    {
     "name": "stderr",
     "output_type": "stream",
     "text": [
      "/home/manu/anaconda3/lib/python3.6/site-packages/ipykernel_launcher.py:17: UserWarning: Implicit dimension choice for softmax has been deprecated. Change the call to include dim=X as an argument.\n"
     ]
    },
    {
     "name": "stdout",
     "output_type": "stream",
     "text": [
      "Fold:2 Epoch:0/30 Train loss:0.545995\n",
      "Fold:2 Epoch:1/30 Train loss:0.304799\n",
      "Fold:2 Epoch:2/30 Train loss:0.278488\n",
      "Fold:2 Epoch:3/30 Train loss:0.265173\n",
      "Fold:2 Epoch:4/30 Train loss:0.256084\n",
      "Fold:2 Epoch:5/30 Train loss:0.249575\n",
      "Fold:2 Epoch:6/30 Train loss:0.239943\n",
      "Fold:2 Epoch:7/30 Train loss:0.233887\n",
      "Fold:2 Epoch:8/30 Train loss:0.229845\n",
      "Fold:2 Epoch:9/30 Train loss:0.224082\n",
      "Fold:2 Epoch:10/30 Train loss:0.216960\n",
      "Fold:2 Epoch:11/30 Train loss:0.211162\n",
      "Fold:2 Epoch:12/30 Train loss:0.206397\n",
      "Fold:2 Epoch:13/30 Train loss:0.203538\n",
      "Fold:2 Epoch:14/30 Train loss:0.196613\n",
      "Fold:2 Epoch:15/30 Train loss:0.193124\n",
      "Fold:2 Epoch:16/30 Train loss:0.186316\n",
      "Fold:2 Epoch:17/30 Train loss:0.184304\n",
      "Fold:2 Epoch:18/30 Train loss:0.175961\n",
      "Fold:2 Epoch:19/30 Train loss:0.173276\n",
      "Fold:2 Epoch:20/30 Train loss:0.168356\n",
      "Fold:2 Epoch:21/30 Train loss:0.162622\n",
      "Fold:2 Epoch:22/30 Train loss:0.158177\n",
      "Fold:2 Epoch:23/30 Train loss:0.154088\n",
      "Fold:2 Epoch:24/30 Train loss:0.151360\n",
      "Fold:2 Epoch:25/30 Train loss:0.145568\n",
      "Fold:2 Epoch:26/30 Train loss:0.143794\n",
      "Fold:2 Epoch:27/30 Train loss:0.139128\n",
      "Fold:2 Epoch:28/30 Train loss:0.133184\n",
      "Fold:2 Epoch:29/30 Train loss:0.130660\n",
      "Test accuracy:0.933272\n",
      "\n",
      "\n"
     ]
    },
    {
     "name": "stderr",
     "output_type": "stream",
     "text": [
      "/home/manu/anaconda3/lib/python3.6/site-packages/ipykernel_launcher.py:17: UserWarning: Implicit dimension choice for softmax has been deprecated. Change the call to include dim=X as an argument.\n"
     ]
    },
    {
     "name": "stdout",
     "output_type": "stream",
     "text": [
      "Fold:3 Epoch:0/30 Train loss:0.533088\n",
      "Fold:3 Epoch:1/30 Train loss:0.305910\n",
      "Fold:3 Epoch:2/30 Train loss:0.277480\n",
      "Fold:3 Epoch:3/30 Train loss:0.264413\n",
      "Fold:3 Epoch:4/30 Train loss:0.253061\n",
      "Fold:3 Epoch:5/30 Train loss:0.244186\n",
      "Fold:3 Epoch:6/30 Train loss:0.235941\n",
      "Fold:3 Epoch:7/30 Train loss:0.230333\n",
      "Fold:3 Epoch:8/30 Train loss:0.223287\n",
      "Fold:3 Epoch:9/30 Train loss:0.220617\n",
      "Fold:3 Epoch:10/30 Train loss:0.214247\n",
      "Fold:3 Epoch:11/30 Train loss:0.211708\n",
      "Fold:3 Epoch:12/30 Train loss:0.206193\n",
      "Fold:3 Epoch:13/30 Train loss:0.197766\n",
      "Fold:3 Epoch:14/30 Train loss:0.196473\n",
      "Fold:3 Epoch:15/30 Train loss:0.189465\n",
      "Fold:3 Epoch:16/30 Train loss:0.190404\n",
      "Fold:3 Epoch:17/30 Train loss:0.181979\n",
      "Fold:3 Epoch:18/30 Train loss:0.177312\n",
      "Fold:3 Epoch:19/30 Train loss:0.172196\n",
      "Fold:3 Epoch:20/30 Train loss:0.169060\n",
      "Fold:3 Epoch:21/30 Train loss:0.162194\n",
      "Fold:3 Epoch:22/30 Train loss:0.159313\n",
      "Fold:3 Epoch:23/30 Train loss:0.156526\n",
      "Fold:3 Epoch:24/30 Train loss:0.153140\n",
      "Fold:3 Epoch:25/30 Train loss:0.145459\n",
      "Fold:3 Epoch:26/30 Train loss:0.143264\n",
      "Fold:3 Epoch:27/30 Train loss:0.140460\n",
      "Fold:3 Epoch:28/30 Train loss:0.138237\n",
      "Fold:3 Epoch:29/30 Train loss:0.132920\n",
      "Test accuracy:0.921223\n",
      "\n",
      "\n"
     ]
    },
    {
     "name": "stderr",
     "output_type": "stream",
     "text": [
      "/home/manu/anaconda3/lib/python3.6/site-packages/ipykernel_launcher.py:17: UserWarning: Implicit dimension choice for softmax has been deprecated. Change the call to include dim=X as an argument.\n"
     ]
    },
    {
     "name": "stdout",
     "output_type": "stream",
     "text": [
      "Fold:4 Epoch:0/30 Train loss:0.536228\n",
      "Fold:4 Epoch:1/30 Train loss:0.310979\n",
      "Fold:4 Epoch:2/30 Train loss:0.285296\n",
      "Fold:4 Epoch:3/30 Train loss:0.274690\n",
      "Fold:4 Epoch:4/30 Train loss:0.262373\n",
      "Fold:4 Epoch:5/30 Train loss:0.256298\n",
      "Fold:4 Epoch:6/30 Train loss:0.250583\n",
      "Fold:4 Epoch:7/30 Train loss:0.239838\n",
      "Fold:4 Epoch:8/30 Train loss:0.235332\n",
      "Fold:4 Epoch:9/30 Train loss:0.230311\n",
      "Fold:4 Epoch:10/30 Train loss:0.224275\n",
      "Fold:4 Epoch:11/30 Train loss:0.220780\n",
      "Fold:4 Epoch:12/30 Train loss:0.214251\n",
      "Fold:4 Epoch:13/30 Train loss:0.210701\n",
      "Fold:4 Epoch:14/30 Train loss:0.203007\n",
      "Fold:4 Epoch:15/30 Train loss:0.202033\n",
      "Fold:4 Epoch:16/30 Train loss:0.195228\n",
      "Fold:4 Epoch:17/30 Train loss:0.190657\n",
      "Fold:4 Epoch:18/30 Train loss:0.185674\n",
      "Fold:4 Epoch:19/30 Train loss:0.179589\n",
      "Fold:4 Epoch:20/30 Train loss:0.175411\n",
      "Fold:4 Epoch:21/30 Train loss:0.168257\n",
      "Fold:4 Epoch:22/30 Train loss:0.166340\n",
      "Fold:4 Epoch:23/30 Train loss:0.162099\n",
      "Fold:4 Epoch:24/30 Train loss:0.154836\n",
      "Fold:4 Epoch:25/30 Train loss:0.152982\n",
      "Fold:4 Epoch:26/30 Train loss:0.145706\n",
      "Fold:4 Epoch:27/30 Train loss:0.142611\n",
      "Fold:4 Epoch:28/30 Train loss:0.137929\n",
      "Fold:4 Epoch:29/30 Train loss:0.135361\n",
      "Test accuracy:0.937905\n",
      "\n",
      "\n"
     ]
    },
    {
     "name": "stderr",
     "output_type": "stream",
     "text": [
      "/home/manu/anaconda3/lib/python3.6/site-packages/ipykernel_launcher.py:17: UserWarning: Implicit dimension choice for softmax has been deprecated. Change the call to include dim=X as an argument.\n"
     ]
    },
    {
     "name": "stdout",
     "output_type": "stream",
     "text": [
      "Fold:5 Epoch:0/30 Train loss:0.549565\n",
      "Fold:5 Epoch:1/30 Train loss:0.310742\n",
      "Fold:5 Epoch:2/30 Train loss:0.281984\n",
      "Fold:5 Epoch:3/30 Train loss:0.268775\n",
      "Fold:5 Epoch:4/30 Train loss:0.258769\n",
      "Fold:5 Epoch:5/30 Train loss:0.249944\n",
      "Fold:5 Epoch:6/30 Train loss:0.242799\n",
      "Fold:5 Epoch:7/30 Train loss:0.236721\n",
      "Fold:5 Epoch:8/30 Train loss:0.229517\n",
      "Fold:5 Epoch:9/30 Train loss:0.224948\n",
      "Fold:5 Epoch:10/30 Train loss:0.219520\n",
      "Fold:5 Epoch:11/30 Train loss:0.213347\n",
      "Fold:5 Epoch:12/30 Train loss:0.211270\n",
      "Fold:5 Epoch:13/30 Train loss:0.204104\n",
      "Fold:5 Epoch:14/30 Train loss:0.199518\n",
      "Fold:5 Epoch:15/30 Train loss:0.198811\n",
      "Fold:5 Epoch:16/30 Train loss:0.195025\n",
      "Fold:5 Epoch:17/30 Train loss:0.188322\n",
      "Fold:5 Epoch:18/30 Train loss:0.182268\n",
      "Fold:5 Epoch:19/30 Train loss:0.180539\n",
      "Fold:5 Epoch:20/30 Train loss:0.177728\n",
      "Fold:5 Epoch:21/30 Train loss:0.173261\n",
      "Fold:5 Epoch:22/30 Train loss:0.169029\n",
      "Fold:5 Epoch:23/30 Train loss:0.166700\n",
      "Fold:5 Epoch:24/30 Train loss:0.163756\n",
      "Fold:5 Epoch:25/30 Train loss:0.159063\n",
      "Fold:5 Epoch:26/30 Train loss:0.152316\n",
      "Fold:5 Epoch:27/30 Train loss:0.149696\n",
      "Fold:5 Epoch:28/30 Train loss:0.146581\n",
      "Fold:5 Epoch:29/30 Train loss:0.141279\n",
      "Test accuracy:0.922078\n",
      "\n",
      "\n",
      "AUC:0.928624 AUPR: 0.944760 Avg Pre: 0.894279 Accuracy: 0.928623\n"
     ]
    }
   ],
   "source": [
    "aucs = []\n",
    "avg_pre = []\n",
    "aupr = []\n",
    "acc = []\n",
    "cv = StratifiedKFold(n_splits=5)\n",
    "num_epochs = 30\n",
    "fold_loss =[]\n",
    "for i, (train, test) in enumerate(cv.split(X_all, y_all)):\n",
    "    clf = LDAClassifier(X_all.size()[1])\n",
    "    opt = optim.Adam(clf.parameters(), lr=0.001, betas=(0.9, 0.999),weight_decay=1e-5)\n",
    "    criterion = nn.BCELoss()\n",
    "        \n",
    "    e_losses = []\n",
    "    for e in range(num_epochs):\n",
    "        los,avg_loss = train_cv(clf,X_all[train],y_all[train],opt,criterion)\n",
    "        e_losses += [avg_loss]\n",
    "        print (\"Fold:%d Epoch:%d/%d Train loss:%f\" %(i+1,e,num_epochs,avg_loss))\n",
    "    fold_loss.append(e_losses)\n",
    "    y_pred = clf.predict(X_all[test])\n",
    "    aucs.append(roc_auc_score(y_all[test],y_pred))\n",
    "    avg_pre.append(average_precision_score(y_all[test],y_pred))\n",
    "    aupr.append(compute_aupr(y_all[test],y_pred))\n",
    "    acc.append(accuracy_score(y_all[test],y_pred))\n",
    "    print(\"Test accuracy:%f\" %acc[-1])\n",
    "    print('\\n')\n",
    "\n",
    "    #print (aucs)\n",
    "    #print (avg_pre)\n",
    "    #print (aupr)\n",
    "print (\"AUC:%f AUPR: %f Avg Pre: %f Accuracy: %f\" %(avg(aucs),avg(aupr),avg(avg_pre),avg(acc)))\n",
    "#return fold_loss"
   ]
  },
  {
   "cell_type": "code",
   "execution_count": 16,
   "metadata": {},
   "outputs": [
    {
     "data": {
      "image/png": "[encoded data removed]",
      "text/plain": [
       "<Figure size 432x288 with 1 Axes>"
      ]
     },
     "metadata": {},
     "output_type": "display_data"
    }
   ],
   "source": [
    "for i in range(len(fold_loss)):\n",
    "    plt.plot(fold_loss[i],label='Fold'+str(i+1))\n",
    "plt.legend()\n",
    "plt.xlabel(\"Number of Epochs\")\n",
    "plt.ylabel(\"Average Loss\")\n",
    "#plt.savefig('learning_curve.jpeg',dpi=300)\n",
    "plt.savefig('learning_curve.svg',dpi=300)\n",
    "plt.show()"
   ]
  },
  {
   "cell_type": "code",
   "execution_count": 14,
   "metadata": {},
   "outputs": [
    {
     "name": "stderr",
     "output_type": "stream",
     "text": [
      "/home/manu/anaconda3/lib/python3.6/site-packages/ipykernel_launcher.py:17: UserWarning: Implicit dimension choice for softmax has been deprecated. Change the call to include dim=X as an argument.\n"
     ]
    },
    {
     "name": "stdout",
     "output_type": "stream",
     "text": [
      "Fold:1 Epoch:0/30 Train loss:0.585970\n",
      "Fold:1 Epoch:1/30 Train loss:0.236701\n",
      "Fold:1 Epoch:2/30 Train loss:0.164770\n",
      "Fold:1 Epoch:3/30 Train loss:0.132173\n",
      "Fold:1 Epoch:4/30 Train loss:0.113756\n",
      "Fold:1 Epoch:5/30 Train loss:0.095770\n",
      "Fold:1 Epoch:6/30 Train loss:0.084302\n",
      "Fold:1 Epoch:7/30 Train loss:0.075449\n",
      "Fold:1 Epoch:8/30 Train loss:0.065433\n",
      "Fold:1 Epoch:9/30 Train loss:0.060604\n",
      "Fold:1 Epoch:10/30 Train loss:0.055072\n",
      "Fold:1 Epoch:11/30 Train loss:0.046754\n",
      "Fold:1 Epoch:12/30 Train loss:0.043902\n",
      "Fold:1 Epoch:13/30 Train loss:0.041473\n",
      "Fold:1 Epoch:14/30 Train loss:0.036836\n",
      "Fold:1 Epoch:15/30 Train loss:0.034433\n",
      "Fold:1 Epoch:16/30 Train loss:0.030434\n",
      "Fold:1 Epoch:17/30 Train loss:0.031146\n",
      "Fold:1 Epoch:18/30 Train loss:0.030584\n",
      "Fold:1 Epoch:19/30 Train loss:0.026239\n",
      "Fold:1 Epoch:20/30 Train loss:0.024969\n",
      "Fold:1 Epoch:21/30 Train loss:0.024278\n",
      "Fold:1 Epoch:22/30 Train loss:0.025790\n",
      "Fold:1 Epoch:23/30 Train loss:0.020604\n",
      "Fold:1 Epoch:24/30 Train loss:0.022079\n",
      "Fold:1 Epoch:25/30 Train loss:0.021917\n",
      "Fold:1 Epoch:26/30 Train loss:0.021250\n",
      "Fold:1 Epoch:27/30 Train loss:0.020703\n",
      "Fold:1 Epoch:28/30 Train loss:0.019138\n",
      "Fold:1 Epoch:29/30 Train loss:0.018628\n",
      "\n",
      "\n"
     ]
    },
    {
     "name": "stderr",
     "output_type": "stream",
     "text": [
      "/home/manu/anaconda3/lib/python3.6/site-packages/ipykernel_launcher.py:17: UserWarning: Implicit dimension choice for softmax has been deprecated. Change the call to include dim=X as an argument.\n"
     ]
    },
    {
     "name": "stdout",
     "output_type": "stream",
     "text": [
      "Fold:2 Epoch:0/30 Train loss:0.547196\n",
      "Fold:2 Epoch:1/30 Train loss:0.216011\n",
      "Fold:2 Epoch:2/30 Train loss:0.158805\n",
      "Fold:2 Epoch:3/30 Train loss:0.127700\n",
      "Fold:2 Epoch:4/30 Train loss:0.105190\n",
      "Fold:2 Epoch:5/30 Train loss:0.088530\n",
      "Fold:2 Epoch:6/30 Train loss:0.080625\n",
      "Fold:2 Epoch:7/30 Train loss:0.071080\n",
      "Fold:2 Epoch:8/30 Train loss:0.062068\n",
      "Fold:2 Epoch:9/30 Train loss:0.056034\n",
      "Fold:2 Epoch:10/30 Train loss:0.049191\n",
      "Fold:2 Epoch:11/30 Train loss:0.042802\n",
      "Fold:2 Epoch:12/30 Train loss:0.042327\n",
      "Fold:2 Epoch:13/30 Train loss:0.040425\n",
      "Fold:2 Epoch:14/30 Train loss:0.032415\n",
      "Fold:2 Epoch:15/30 Train loss:0.033172\n",
      "Fold:2 Epoch:16/30 Train loss:0.031083\n",
      "Fold:2 Epoch:17/30 Train loss:0.027973\n",
      "Fold:2 Epoch:18/30 Train loss:0.027467\n",
      "Fold:2 Epoch:19/30 Train loss:0.030008\n",
      "Fold:2 Epoch:20/30 Train loss:0.025462\n",
      "Fold:2 Epoch:21/30 Train loss:0.021582\n",
      "Fold:2 Epoch:22/30 Train loss:0.022652\n",
      "Fold:2 Epoch:23/30 Train loss:0.021266\n",
      "Fold:2 Epoch:24/30 Train loss:0.019780\n",
      "Fold:2 Epoch:25/30 Train loss:0.020874\n",
      "Fold:2 Epoch:26/30 Train loss:0.019761\n",
      "Fold:2 Epoch:27/30 Train loss:0.016773\n",
      "Fold:2 Epoch:28/30 Train loss:0.018584\n",
      "Fold:2 Epoch:29/30 Train loss:0.017020\n",
      "\n",
      "\n"
     ]
    },
    {
     "name": "stderr",
     "output_type": "stream",
     "text": [
      "/home/manu/anaconda3/lib/python3.6/site-packages/ipykernel_launcher.py:17: UserWarning: Implicit dimension choice for softmax has been deprecated. Change the call to include dim=X as an argument.\n"
     ]
    },
    {
     "name": "stdout",
     "output_type": "stream",
     "text": [
      "Fold:3 Epoch:0/30 Train loss:0.560369\n",
      "Fold:3 Epoch:1/30 Train loss:0.219609\n",
      "Fold:3 Epoch:2/30 Train loss:0.157252\n",
      "Fold:3 Epoch:3/30 Train loss:0.127227\n",
      "Fold:3 Epoch:4/30 Train loss:0.104281\n",
      "Fold:3 Epoch:5/30 Train loss:0.091285\n",
      "Fold:3 Epoch:6/30 Train loss:0.079452\n",
      "Fold:3 Epoch:7/30 Train loss:0.068072\n",
      "Fold:3 Epoch:8/30 Train loss:0.060679\n",
      "Fold:3 Epoch:9/30 Train loss:0.053113\n",
      "Fold:3 Epoch:10/30 Train loss:0.047491\n",
      "Fold:3 Epoch:11/30 Train loss:0.041516\n",
      "Fold:3 Epoch:12/30 Train loss:0.039829\n",
      "Fold:3 Epoch:13/30 Train loss:0.037268\n",
      "Fold:3 Epoch:14/30 Train loss:0.033115\n",
      "Fold:3 Epoch:15/30 Train loss:0.033265\n",
      "Fold:3 Epoch:16/30 Train loss:0.029181\n",
      "Fold:3 Epoch:17/30 Train loss:0.027502\n",
      "Fold:3 Epoch:18/30 Train loss:0.029441\n",
      "Fold:3 Epoch:19/30 Train loss:0.025466\n",
      "Fold:3 Epoch:20/30 Train loss:0.024494\n",
      "Fold:3 Epoch:21/30 Train loss:0.024034\n",
      "Fold:3 Epoch:22/30 Train loss:0.020339\n",
      "Fold:3 Epoch:23/30 Train loss:0.018828\n",
      "Fold:3 Epoch:24/30 Train loss:0.017242\n",
      "Fold:3 Epoch:25/30 Train loss:0.019557\n",
      "Fold:3 Epoch:26/30 Train loss:0.016548\n",
      "Fold:3 Epoch:27/30 Train loss:0.015950\n",
      "Fold:3 Epoch:28/30 Train loss:0.015523\n",
      "Fold:3 Epoch:29/30 Train loss:0.015641\n",
      "\n",
      "\n"
     ]
    },
    {
     "name": "stderr",
     "output_type": "stream",
     "text": [
      "/home/manu/anaconda3/lib/python3.6/site-packages/ipykernel_launcher.py:17: UserWarning: Implicit dimension choice for softmax has been deprecated. Change the call to include dim=X as an argument.\n"
     ]
    },
    {
     "name": "stdout",
     "output_type": "stream",
     "text": [
      "Fold:4 Epoch:0/30 Train loss:0.553735\n",
      "Fold:4 Epoch:1/30 Train loss:0.227829\n",
      "Fold:4 Epoch:2/30 Train loss:0.167460\n",
      "Fold:4 Epoch:3/30 Train loss:0.136568\n",
      "Fold:4 Epoch:4/30 Train loss:0.115906\n",
      "Fold:4 Epoch:5/30 Train loss:0.098281\n",
      "Fold:4 Epoch:6/30 Train loss:0.083107\n",
      "Fold:4 Epoch:7/30 Train loss:0.073018\n",
      "Fold:4 Epoch:8/30 Train loss:0.063228\n",
      "Fold:4 Epoch:9/30 Train loss:0.056914\n",
      "Fold:4 Epoch:10/30 Train loss:0.050221\n",
      "Fold:4 Epoch:11/30 Train loss:0.047940\n",
      "Fold:4 Epoch:12/30 Train loss:0.039759\n",
      "Fold:4 Epoch:13/30 Train loss:0.038675\n",
      "Fold:4 Epoch:14/30 Train loss:0.035183\n",
      "Fold:4 Epoch:15/30 Train loss:0.033593\n",
      "Fold:4 Epoch:16/30 Train loss:0.029274\n",
      "Fold:4 Epoch:17/30 Train loss:0.027981\n",
      "Fold:4 Epoch:18/30 Train loss:0.032332\n",
      "Fold:4 Epoch:19/30 Train loss:0.028090\n",
      "Fold:4 Epoch:20/30 Train loss:0.023337\n",
      "Fold:4 Epoch:21/30 Train loss:0.023618\n",
      "Fold:4 Epoch:22/30 Train loss:0.021091\n",
      "Fold:4 Epoch:23/30 Train loss:0.021357\n",
      "Fold:4 Epoch:24/30 Train loss:0.020515\n",
      "Fold:4 Epoch:25/30 Train loss:0.020196\n",
      "Fold:4 Epoch:26/30 Train loss:0.017153\n",
      "Fold:4 Epoch:27/30 Train loss:0.019219\n",
      "Fold:4 Epoch:28/30 Train loss:0.022570\n",
      "Fold:4 Epoch:29/30 Train loss:0.018317\n",
      "\n",
      "\n"
     ]
    },
    {
     "name": "stderr",
     "output_type": "stream",
     "text": [
      "/home/manu/anaconda3/lib/python3.6/site-packages/ipykernel_launcher.py:17: UserWarning: Implicit dimension choice for softmax has been deprecated. Change the call to include dim=X as an argument.\n"
     ]
    },
    {
     "name": "stdout",
     "output_type": "stream",
     "text": [
      "Fold:5 Epoch:0/30 Train loss:0.568653\n",
      "Fold:5 Epoch:1/30 Train loss:0.223268\n",
      "Fold:5 Epoch:2/30 Train loss:0.163209\n",
      "Fold:5 Epoch:3/30 Train loss:0.129105\n",
      "Fold:5 Epoch:4/30 Train loss:0.107882\n",
      "Fold:5 Epoch:5/30 Train loss:0.090304\n",
      "Fold:5 Epoch:6/30 Train loss:0.077587\n",
      "Fold:5 Epoch:7/30 Train loss:0.069625\n",
      "Fold:5 Epoch:8/30 Train loss:0.058759\n",
      "Fold:5 Epoch:9/30 Train loss:0.052462\n",
      "Fold:5 Epoch:10/30 Train loss:0.046173\n",
      "Fold:5 Epoch:11/30 Train loss:0.040773\n",
      "Fold:5 Epoch:12/30 Train loss:0.034934\n",
      "Fold:5 Epoch:13/30 Train loss:0.034886\n",
      "Fold:5 Epoch:14/30 Train loss:0.029745\n",
      "Fold:5 Epoch:15/30 Train loss:0.029524\n",
      "Fold:5 Epoch:16/30 Train loss:0.029261\n",
      "Fold:5 Epoch:17/30 Train loss:0.026278\n",
      "Fold:5 Epoch:18/30 Train loss:0.024605\n",
      "Fold:5 Epoch:19/30 Train loss:0.023990\n",
      "Fold:5 Epoch:20/30 Train loss:0.022014\n",
      "Fold:5 Epoch:21/30 Train loss:0.020331\n",
      "Fold:5 Epoch:22/30 Train loss:0.017813\n",
      "Fold:5 Epoch:23/30 Train loss:0.024209\n",
      "Fold:5 Epoch:24/30 Train loss:0.020268\n",
      "Fold:5 Epoch:25/30 Train loss:0.017976\n",
      "Fold:5 Epoch:26/30 Train loss:0.016427\n",
      "Fold:5 Epoch:27/30 Train loss:0.017280\n",
      "Fold:5 Epoch:28/30 Train loss:0.018472\n",
      "Fold:5 Epoch:29/30 Train loss:0.015365\n",
      "\n",
      "\n"
     ]
    }
   ],
   "source": [
    "#Plot ROC\n",
    "fpr_list=[]\n",
    "tpr_list=[]\n",
    "aucs=[]\n",
    "cv = StratifiedKFold(n_splits=5)\n",
    "num_epochs = 30\n",
    "fold_loss =[]\n",
    "for i, (train, test) in enumerate(cv.split(X_all, y_all)):\n",
    "    clf = LDAClassifier(X_all.size()[1])\n",
    "    opt = optim.Adam(clf.parameters(), lr=0.001, betas=(0.9, 0.999),weight_decay=1e-5)\n",
    "    criterion = nn.BCELoss()\n",
    "        \n",
    "    e_losses = []\n",
    "    for e in range(num_epochs):\n",
    "        los,avg_loss = train_cv(clf,X_all[train],y_all[train],opt,criterion)\n",
    "        e_losses += [avg_loss]\n",
    "        print (\"Fold:%d Epoch:%d/%d Train loss:%f\" %(i+1,e,num_epochs,avg_loss))\n",
    "    \n",
    "    fold_loss.append(e_losses)\n",
    "    y_pred = clf.predict(X_all[test])\n",
    "    fpr,tpr,_= roc_curve(y_all[test],y_pred)\n",
    "    fpr_list.append(fpr)\n",
    "    tpr_list.append(tpr)\n",
    "    aucs.append(roc_auc_score(y_all[test],y_pred))\n",
    "    #print(\"Test accuracy:%f\" %acc[-1])\n",
    "    print('\\n')\n",
    "\n",
    "    #print (aucs)\n",
    "    #print (avg_pre)\n",
    "    #print (aupr)\n",
    "#print (\"AUC:%f AUPR: %f Avg Pre: %f Accuracy: %f\" %(avg(aucs),avg(aupr),avg(avg_pre),avg(acc)))\n",
    "#return fold_loss"
   ]
  },
  {
   "cell_type": "code",
   "execution_count": 15,
   "metadata": {},
   "outputs": [
    {
     "data": {
      "image/png": "[encoded data removed]",
      "text/plain": [
       "<Figure size 432x288 with 1 Axes>"
      ]
     },
     "metadata": {},
     "output_type": "display_data"
    }
   ],
   "source": [
    "for i in range(len(aucs)):\n",
    "    plt.plot(fpr_list[i],tpr_list[i],label=\"Fold-\"+str(i+1)+\"(auc=\"+str(round(aucs[i],3))+\")\")\n",
    "    plt.legend()\n",
    "plt.xlabel('FPR')\n",
    "plt.ylabel('TPR')\n",
    "plt.title('ROC curves of DBNLDA')\n",
    "#plt.savefig('roc.jpeg',dpi=300)\n",
    "plt.savefig('roc.svg',dpi=300)\n",
    "plt.show()"
   ]
  },
  {
   "cell_type": "code",
   "execution_count": null,
   "metadata": {},
   "outputs": [],
   "source": []
  }
 ],
 "metadata": {
  "kernelspec": {
   "display_name": "Python 3",
   "language": "python",
   "name": "python3"
  },
  "language_info": {
   "codemirror_mode": {
    "name": "ipython",
    "version": 3
   },
   "file_extension": ".py",
   "mimetype": "text/x-python",
   "name": "python",
   "nbconvert_exporter": "python",
   "pygments_lexer": "ipython3",
   "version": "3.6.8"
  }
 },
 "nbformat": 4,
 "nbformat_minor": 2
}
